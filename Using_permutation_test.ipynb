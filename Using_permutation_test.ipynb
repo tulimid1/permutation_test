{
 "cells": [
  {
   "cell_type": "markdown",
   "metadata": {},
   "source": [
    "# Using permutation_test"
   ]
  },
  {
   "cell_type": "code",
   "execution_count": null,
   "metadata": {},
   "outputs": [],
   "source": [
    "# pip install permutation_test"
   ]
  },
  {
   "cell_type": "code",
   "execution_count": null,
   "metadata": {},
   "outputs": [],
   "source": [
    "import numpy as np \n",
    "import matplotlib.pyplot as plt \n",
    "plt.style.use('seaborn')\n",
    "plt.rcParams.update({'font.size': 16}) \n",
    "from permutation_test import permutation_test\n",
    "import scipy.stats as stats"
   ]
  },
  {
   "cell_type": "markdown",
   "metadata": {},
   "source": [
    "## Generate some data "
   ]
  },
  {
   "cell_type": "code",
   "execution_count": null,
   "metadata": {},
   "outputs": [],
   "source": [
    "# create data \n",
    "A = np.random.normal(0,1,[50,])\n",
    "B = np.random.normal(0,1,[50,])\n",
    "\n",
    "# create assignment \n",
    "assignA = [0] * 50\n",
    "assignB = [1] * 50\n",
    "\n",
    "# concatenate \n",
    "data = np.concatenate((A,B))\n",
    "assignment = np.concatenate((assignA, assignB))"
   ]
  },
  {
   "cell_type": "markdown",
   "metadata": {},
   "source": [
    "### Two independent samples [compare means]"
   ]
  },
  {
   "cell_type": "code",
   "execution_count": null,
   "metadata": {},
   "outputs": [],
   "source": [
    "# no parallel computing \n",
    "p = permutation_test(data1=A, data2=B, vis=True)"
   ]
  },
  {
   "cell_type": "code",
   "execution_count": null,
   "metadata": {},
   "outputs": [],
   "source": [
    "# parallel computing \n",
    "p = permutation_test(data1=A, data2=B, vis=True, parQuick=True)"
   ]
  },
  {
   "cell_type": "code",
   "execution_count": null,
   "metadata": {},
   "outputs": [],
   "source": [
    "# does parQuick=True and parQuick=False give similar answers ?\n",
    "N = 20\n",
    "pQuick = np.empty(N) \n",
    "pSlow = np.empty(N) \n",
    "# create assignment \n",
    "assignA = [0] * 50\n",
    "assignB = [1] * 50\n",
    "# concatenate \n",
    "assignment = np.concatenate((assignA, assignB))\n",
    "mu2 = np.linspace(-0.1, 0.1, 20)\n",
    "\n",
    "# iterate\n",
    "for i in range(N): \n",
    "    # generate data \n",
    "    data1 = np.random.normal(0,1,[50,])\n",
    "    data2 = np.random.normal(mu2[i],1,[50,])\n",
    "    # slow \n",
    "    pS = permutation_test(data1=data1, data2=data2, parQuick=False)\n",
    "    pSlow[i] = pS\n",
    "    # fast \n",
    "    pQ = permutation_test(data1=data1, data2=data2, parQuick=True)\n",
    "    pQuick[i] = pQ\n",
    "\n",
    "plt.figure()\n",
    "plt.plot([0, 1], [0, 1], c='k', ls='-', lw=2)\n",
    "plt.scatter(pSlow, pQuick)\n",
    "plt.xlabel('p (Slow)')\n",
    "plt.ylabel('p (Quick)')\n",
    "plt.show()"
   ]
  },
  {
   "cell_type": "markdown",
   "metadata": {},
   "source": [
    "## Testing against parametric tests"
   ]
  },
  {
   "cell_type": "code",
   "execution_count": null,
   "metadata": {},
   "outputs": [],
   "source": [
    "# set up \n",
    "N = 20 \n",
    "ttestp = [] \n",
    "permtestp = []\n",
    "# create assignment \n",
    "assignA = [0] * 10\n",
    "assignB = [1] * 10\n",
    "# concatenate \n",
    "assignment = np.concatenate((assignA, assignB))\n",
    "\n",
    "# iterate\n",
    "for i in range(N): \n",
    "    # generate data \n",
    "    mu1 = np.random.normal(0, 3, [1,])\n",
    "    mu2 = np.random.normal(0, 3, [1,])\n",
    "    data1 = np.random.normal(mu1,1,[10,])\n",
    "    data2 = np.random.normal(mu2,1,[10,])\n",
    "    # ttest2\n",
    "    _, p = stats.ttest_ind(data1, data2, equal_var=False)\n",
    "    ttestp.append(p)\n",
    "    # BET \n",
    "    p = permutation_test(data1=data1, data2=data2, parQuick=True)\n",
    "    permtestp.append(p)\n",
    "\n",
    "plt.figure()\n",
    "plt.plot([0, 1], [0,1], c='k', ls='-', lw=2)\n",
    "plt.scatter(ttestp, permtestp)\n",
    "plt.xlabel('p (t-test)')\n",
    "plt.ylabel('p (permutation test)')\n",
    "plt.show()"
   ]
  },
  {
   "cell_type": "code",
   "execution_count": null,
   "metadata": {},
   "outputs": [],
   "source": [
    "# other alternatives besides less and greater\n",
    "N = 10\n",
    "pQuick = np.empty(N) \n",
    "pSlow = np.empty(N) \n",
    "# create assignment \n",
    "assignA = [0] * 50\n",
    "assignB = [1] * 50\n",
    "# concatenate \n",
    "assignment = np.concatenate((assignA, assignB))\n",
    "mu2 = np.linspace(-0.1, 0.1, 10)\n",
    "\n",
    "# iterate\n",
    "for i in range(N): \n",
    "    # generate data \n",
    "    data1 = np.random.normal(0,1,[50,])\n",
    "    data2 = np.random.normal(mu2[i],1,[50,])\n",
    "    # fast \n",
    "    pQ = permutation_test(data1=data1, data2=data2, parQuick=True, vis=False, alternative='greater')"
   ]
  }
 ],
 "metadata": {
  "interpreter": {
   "hash": "7acdbb3aff7158c09429e6c9b96f485cecd437364040e3b3eee49ff737423024"
  },
  "kernelspec": {
   "display_name": "Python 3.8.10 64-bit ('base': conda)",
   "language": "python",
   "name": "python3"
  },
  "language_info": {
   "codemirror_mode": {
    "name": "ipython",
    "version": 3
   },
   "file_extension": ".py",
   "mimetype": "text/x-python",
   "name": "python",
   "nbconvert_exporter": "python",
   "pygments_lexer": "ipython3",
   "version": "3.8.10"
  },
  "orig_nbformat": 4
 },
 "nbformat": 4,
 "nbformat_minor": 2
}
